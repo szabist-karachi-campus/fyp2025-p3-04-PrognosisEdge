{
 "cells": [
  {
   "cell_type": "markdown",
   "id": "244c114f-ee8f-430e-8dcc-b53c67020590",
   "metadata": {},
   "source": [
    "# Cleaning"
   ]
  },
  {
   "cell_type": "code",
   "execution_count": 4,
   "id": "09886962-d70a-48cf-a8f5-85802dcedf18",
   "metadata": {},
   "outputs": [],
   "source": [
    "# Import libraries\n",
    "import pandas as pd\n",
    "import numpy as np\n",
    "import matplotlib.pyplot as plt\n",
    "import seaborn as sns\n",
    "from scipy.stats import skew\n",
    "from sklearn.feature_selection import mutual_info_classif"
   ]
  },
  {
   "cell_type": "code",
   "execution_count": 5,
   "id": "44b354f7-3050-42bd-beca-a6169c07462d",
   "metadata": {},
   "outputs": [
    {
     "name": "stdout",
     "output_type": "stream",
     "text": [
      "<class 'pandas.core.frame.DataFrame'>\n",
      "RangeIndex: 174954 entries, 0 to 174953\n",
      "Data columns (total 18 columns):\n",
      " #   Column                         Non-Null Count   Dtype  \n",
      "---  ------                         --------------   -----  \n",
      " 0   Hydraulic_Pressure             150461 non-null  float64\n",
      " 1   Coolant_Pressure               159209 non-null  float64\n",
      " 2   Ambient_Temperature            174954 non-null  float64\n",
      " 3   Voltage                        164457 non-null  float64\n",
      " 4   Humidity                       155710 non-null  float64\n",
      " 5   Air_System_Pressure            157459 non-null  float64\n",
      " 6   Coolant_Temperature            157459 non-null  float64\n",
      " 7   Hydraulic_Oil_Temperature      162708 non-null  float64\n",
      " 8   Water_Flow_Rate                157459 non-null  float64\n",
      " 9   Water_Temperature              155710 non-null  float64\n",
      " 10  Detergent_Level                164457 non-null  float64\n",
      " 11  Spray_Pressure                 159209 non-null  float64\n",
      " 12  Vibration                      166207 non-null  float64\n",
      " 13  Motor_Current                  155710 non-null  float64\n",
      " 14  Pressure_Stability_Index       159209 non-null  float64\n",
      " 15  Temperature_Fluctuation_Index  162708 non-null  float64\n",
      " 16  failure_type                   174954 non-null  object \n",
      " 17  machine_failure                174954 non-null  int64  \n",
      "dtypes: float64(16), int64(1), object(1)\n",
      "memory usage: 24.0+ MB\n",
      "None\n"
     ]
    }
   ],
   "source": [
    "# Load dataset\n",
    "file_path = \"C:/Users/ghaza/Desktop/FYP/Application/AI/data/raw/Ampule Washing Data.csv\"\n",
    "data = pd.read_csv(file_path)\n",
    "\n",
    "# Display dataset info\n",
    "print(data.info())"
   ]
  },
  {
   "cell_type": "markdown",
   "id": "e1bbb030-40bb-48c0-8176-ec79deea129e",
   "metadata": {},
   "source": [
    "### Step 1: Check Missing Values"
   ]
  },
  {
   "cell_type": "code",
   "execution_count": 7,
   "id": "c001c5d0-4b97-42cd-86a4-75795cbf4ac7",
   "metadata": {},
   "outputs": [
    {
     "data": {
      "text/html": [
       "<div>\n",
       "<style scoped>\n",
       "    .dataframe tbody tr th:only-of-type {\n",
       "        vertical-align: middle;\n",
       "    }\n",
       "\n",
       "    .dataframe tbody tr th {\n",
       "        vertical-align: top;\n",
       "    }\n",
       "\n",
       "    .dataframe thead th {\n",
       "        text-align: right;\n",
       "    }\n",
       "</style>\n",
       "<table border=\"1\" class=\"dataframe\">\n",
       "  <thead>\n",
       "    <tr style=\"text-align: right;\">\n",
       "      <th></th>\n",
       "      <th>Missing Values</th>\n",
       "    </tr>\n",
       "  </thead>\n",
       "  <tbody>\n",
       "    <tr>\n",
       "      <th>Hydraulic_Pressure</th>\n",
       "      <td>24493</td>\n",
       "    </tr>\n",
       "    <tr>\n",
       "      <th>Coolant_Pressure</th>\n",
       "      <td>15745</td>\n",
       "    </tr>\n",
       "    <tr>\n",
       "      <th>Voltage</th>\n",
       "      <td>10497</td>\n",
       "    </tr>\n",
       "    <tr>\n",
       "      <th>Humidity</th>\n",
       "      <td>19244</td>\n",
       "    </tr>\n",
       "    <tr>\n",
       "      <th>Air_System_Pressure</th>\n",
       "      <td>17495</td>\n",
       "    </tr>\n",
       "    <tr>\n",
       "      <th>Coolant_Temperature</th>\n",
       "      <td>17495</td>\n",
       "    </tr>\n",
       "    <tr>\n",
       "      <th>Hydraulic_Oil_Temperature</th>\n",
       "      <td>12246</td>\n",
       "    </tr>\n",
       "    <tr>\n",
       "      <th>Water_Flow_Rate</th>\n",
       "      <td>17495</td>\n",
       "    </tr>\n",
       "    <tr>\n",
       "      <th>Water_Temperature</th>\n",
       "      <td>19244</td>\n",
       "    </tr>\n",
       "    <tr>\n",
       "      <th>Detergent_Level</th>\n",
       "      <td>10497</td>\n",
       "    </tr>\n",
       "    <tr>\n",
       "      <th>Spray_Pressure</th>\n",
       "      <td>15745</td>\n",
       "    </tr>\n",
       "    <tr>\n",
       "      <th>Vibration</th>\n",
       "      <td>8747</td>\n",
       "    </tr>\n",
       "    <tr>\n",
       "      <th>Motor_Current</th>\n",
       "      <td>19244</td>\n",
       "    </tr>\n",
       "    <tr>\n",
       "      <th>Pressure_Stability_Index</th>\n",
       "      <td>15745</td>\n",
       "    </tr>\n",
       "    <tr>\n",
       "      <th>Temperature_Fluctuation_Index</th>\n",
       "      <td>12246</td>\n",
       "    </tr>\n",
       "  </tbody>\n",
       "</table>\n",
       "</div>"
      ],
      "text/plain": [
       "                               Missing Values\n",
       "Hydraulic_Pressure                      24493\n",
       "Coolant_Pressure                        15745\n",
       "Voltage                                 10497\n",
       "Humidity                                19244\n",
       "Air_System_Pressure                     17495\n",
       "Coolant_Temperature                     17495\n",
       "Hydraulic_Oil_Temperature               12246\n",
       "Water_Flow_Rate                         17495\n",
       "Water_Temperature                       19244\n",
       "Detergent_Level                         10497\n",
       "Spray_Pressure                          15745\n",
       "Vibration                                8747\n",
       "Motor_Current                           19244\n",
       "Pressure_Stability_Index                15745\n",
       "Temperature_Fluctuation_Index           12246"
      ]
     },
     "metadata": {},
     "output_type": "display_data"
    }
   ],
   "source": [
    "# Display missing values and percentage\n",
    "missing_values = data.isnull().sum()\n",
    "missing_df = pd.DataFrame({'Missing Values': missing_values})\n",
    "missing_df = missing_df[missing_df['Missing Values'] > 0]  # Filter columns with missing values\n",
    "display(missing_df)"
   ]
  },
  {
   "cell_type": "markdown",
   "id": "c66f5924-f879-401a-a2b8-24de0b3cdaa4",
   "metadata": {},
   "source": [
    "### Step 2: Analyze and Fill Missing Values"
   ]
  },
  {
   "cell_type": "markdown",
   "id": "b1b32e0b-0a3b-4f7e-a666-9be7048bbcbe",
   "metadata": {},
   "source": [
    "#### Impute machine_failure based on failure_type"
   ]
  },
  {
   "cell_type": "code",
   "execution_count": 10,
   "id": "012daa51-8228-44c1-b53e-9e169f0d380c",
   "metadata": {},
   "outputs": [
    {
     "name": "stdout",
     "output_type": "stream",
     "text": [
      "Remaining inconsistencies for 'No Failure': 0\n",
      "Remaining inconsistencies for failures: 0\n"
     ]
    }
   ],
   "source": [
    "# Step 1: Ensure `machine_failure` is NaN where applicable (to avoid overwriting valid data)\n",
    "# If failure_type == 'No Failure', machine_failure should always be 0\n",
    "data.loc[(data['failure_type'] == 'No Failure') & (data['machine_failure'].isnull()), 'machine_failure'] = 0\n",
    "# Force machine_failure to 0 where failure_type is 'No Failure'\n",
    "data.loc[data['failure_type'] == 'No Failure', 'machine_failure'] = 0\n",
    "\n",
    "# Step 2: For other failure types, fill missing machine_failure with 1\n",
    "data.loc[(data['failure_type'] != 'No Failure') & (data['machine_failure'].isnull()), 'machine_failure'] = 1\n",
    "# Force machine_failure to 1 where failure_type indicates a failure\n",
    "data.loc[data['failure_type'] != 'No Failure', 'machine_failure'] = 1\n",
    "\n",
    "# Recheck for inconsistencies\n",
    "remaining_no_failure = data.loc[(data['failure_type'] == 'No Failure') & (data['machine_failure'] != 0)]\n",
    "remaining_failure = data.loc[(data['failure_type'] != 'No Failure') & (data['machine_failure'] != 1)]\n",
    "\n",
    "print(f\"Remaining inconsistencies for 'No Failure': {len(remaining_no_failure)}\")\n",
    "print(f\"Remaining inconsistencies for failures: {len(remaining_failure)}\")\n"
   ]
  },
  {
   "cell_type": "markdown",
   "id": "57cbc364-a748-4cef-8650-1f1323e1e17d",
   "metadata": {},
   "source": [
    "#### Fill Missing Values for Other Columns"
   ]
  },
  {
   "cell_type": "code",
   "execution_count": 12,
   "id": "c584c86e-0dd8-40d9-a2b3-228f2ec76f8e",
   "metadata": {},
   "outputs": [],
   "source": [
    "# Handle missing values\n",
    "for col in missing_df.index:\n",
    "    if col == 'machine_failure':  # Skip machine_failure as it's already handled\n",
    "        continue\n",
    "\n",
    "    if data[col].dtype in ['float64', 'int64']:  # Numeric columns\n",
    "        col_skewness = skew(data[col].dropna())\n",
    "        \n",
    "        # Highly skewed: Use median, otherwise use mean\n",
    "        fill_value = data[col].median() if abs(col_skewness) > 1 else data[col].mean()\n",
    "        data[col] = data[col].fillna(fill_value)\n",
    "    \n",
    "    else:  # Categorical columns\n",
    "        # Fill missing categorical values with mode\n",
    "        if not data[col].mode().empty:  # Check for valid mode\n",
    "            fill_value = data[col].mode()[0]\n",
    "            data[col] = data[col].fillna(fill_value)"
   ]
  },
  {
   "cell_type": "markdown",
   "id": "cd5f8794-32d1-4b1a-83f6-634c1844698a",
   "metadata": {},
   "source": [
    "#### Verify Missing Values Are Filled"
   ]
  },
  {
   "cell_type": "code",
   "execution_count": 14,
   "id": "38257900-3c80-47a2-bb71-873d5aeb72fc",
   "metadata": {},
   "outputs": [
    {
     "name": "stdout",
     "output_type": "stream",
     "text": [
      "\n",
      "Missing Values After Imputation:\n",
      "Hydraulic_Pressure               0\n",
      "Coolant_Pressure                 0\n",
      "Ambient_Temperature              0\n",
      "Voltage                          0\n",
      "Humidity                         0\n",
      "Air_System_Pressure              0\n",
      "Coolant_Temperature              0\n",
      "Hydraulic_Oil_Temperature        0\n",
      "Water_Flow_Rate                  0\n",
      "Water_Temperature                0\n",
      "Detergent_Level                  0\n",
      "Spray_Pressure                   0\n",
      "Vibration                        0\n",
      "Motor_Current                    0\n",
      "Pressure_Stability_Index         0\n",
      "Temperature_Fluctuation_Index    0\n",
      "failure_type                     0\n",
      "machine_failure                  0\n",
      "dtype: int64\n"
     ]
    }
   ],
   "source": [
    "# Verify that there are no missing values left\n",
    "print(\"\\nMissing Values After Imputation:\")\n",
    "print(data.isnull().sum())"
   ]
  },
  {
   "cell_type": "markdown",
   "id": "de617e72-386c-4729-b73c-b6f456dcf570",
   "metadata": {},
   "source": [
    "### Step 3: Analyzing the Relationship Between Failure Type and Machine Failure\n",
    "\n",
    "#### Visualizing the Distribution of Failure Types and Machine Failures\n",
    "This step focuses on exploring the relationship between the `failure_type` column and the `machine_failure` target variable. A horizontal bar chart is used to display the distribution of failure types, stacked by whether a machine failure occurred (`1`) or not (`0`). This visualization provides insights into the patterns and frequency of failures for each type."
   ]
  },
  {
   "cell_type": "code",
   "execution_count": 16,
   "id": "2521ae62-40d0-4efe-ad17-98d8d3c75f81",
   "metadata": {},
   "outputs": [
    {
     "data": {
      "text/html": [
       "<div>\n",
       "<style scoped>\n",
       "    .dataframe tbody tr th:only-of-type {\n",
       "        vertical-align: middle;\n",
       "    }\n",
       "\n",
       "    .dataframe tbody tr th {\n",
       "        vertical-align: top;\n",
       "    }\n",
       "\n",
       "    .dataframe thead th {\n",
       "        text-align: right;\n",
       "    }\n",
       "</style>\n",
       "<table border=\"1\" class=\"dataframe\">\n",
       "  <thead>\n",
       "    <tr style=\"text-align: right;\">\n",
       "      <th>machine_failure</th>\n",
       "      <th>0</th>\n",
       "      <th>1</th>\n",
       "    </tr>\n",
       "    <tr>\n",
       "      <th>failure_type</th>\n",
       "      <th></th>\n",
       "      <th></th>\n",
       "    </tr>\n",
       "  </thead>\n",
       "  <tbody>\n",
       "    <tr>\n",
       "      <th>Detergent Level Low</th>\n",
       "      <td>0.0</td>\n",
       "      <td>9062.0</td>\n",
       "    </tr>\n",
       "    <tr>\n",
       "      <th>No Failure</th>\n",
       "      <td>126716.0</td>\n",
       "      <td>0.0</td>\n",
       "    </tr>\n",
       "    <tr>\n",
       "      <th>Pressure Drop</th>\n",
       "      <td>0.0</td>\n",
       "      <td>2678.0</td>\n",
       "    </tr>\n",
       "    <tr>\n",
       "      <th>Temperature Anomaly</th>\n",
       "      <td>0.0</td>\n",
       "      <td>18360.0</td>\n",
       "    </tr>\n",
       "    <tr>\n",
       "      <th>Water Flow Issue</th>\n",
       "      <td>0.0</td>\n",
       "      <td>18138.0</td>\n",
       "    </tr>\n",
       "  </tbody>\n",
       "</table>\n",
       "</div>"
      ],
      "text/plain": [
       "machine_failure             0        1\n",
       "failure_type                          \n",
       "Detergent Level Low       0.0   9062.0\n",
       "No Failure           126716.0      0.0\n",
       "Pressure Drop             0.0   2678.0\n",
       "Temperature Anomaly       0.0  18360.0\n",
       "Water Flow Issue          0.0  18138.0"
      ]
     },
     "execution_count": 16,
     "metadata": {},
     "output_type": "execute_result"
    }
   ],
   "source": [
    "# Group by failure_type and machine_failure\n",
    "failure_machine_counts = data.groupby(['failure_type', 'machine_failure']).size().reset_index(name='count')\n",
    "\n",
    "# Pivot the data\n",
    "pivot_data = failure_machine_counts.pivot(index='failure_type', columns='machine_failure', values='count').fillna(0)\n",
    "\n",
    "pivot_data"
   ]
  },
  {
   "cell_type": "code",
   "execution_count": 28,
   "id": "6680351f-cd70-44d0-b3fa-831e024b3ccc",
   "metadata": {},
   "outputs": [
    {
     "name": "stdout",
     "output_type": "stream",
     "text": [
      "\n",
      "Distribution of 'machine_failure':\n"
     ]
    },
    {
     "name": "stderr",
     "output_type": "stream",
     "text": [
      "C:\\Users\\ghaza\\AppData\\Local\\Temp\\ipykernel_36044\\228426878.py:14: FutureWarning: \n",
      "\n",
      "Passing `palette` without assigning `hue` is deprecated and will be removed in v0.14.0. Assign the `x` variable to `hue` and set `legend=False` for the same effect.\n",
      "\n",
      "  ax = sns.barplot(x=labels, y=counts, palette='coolwarm')\n"
     ]
    },
    {
     "data": {
      "image/png": "[encoded data removed]",
      "text/plain": [
       "<Figure size 800x600 with 1 Axes>"
      ]
     },
     "metadata": {},
     "output_type": "display_data"
    }
   ],
   "source": [
    "# Distribution of 'machine_failure' with NaN counts\n",
    "print(\"\\nDistribution of 'machine_failure':\")\n",
    "\n",
    "# Count unique values and NaNs separately\n",
    "value_counts = data['machine_failure'].value_counts(dropna=False)  # Include NaN values\n",
    "labels = value_counts.index.tolist()  # Extract unique values (including NaN)\n",
    "counts = value_counts.values  # Corresponding counts\n",
    "\n",
    "# Convert NaN in labels to a string for plotting\n",
    "labels = ['NaN' if pd.isna(label) else label for label in labels]\n",
    "\n",
    "# Plot\n",
    "plt.figure(figsize=(8, 6))\n",
    "ax = sns.barplot(x=labels, y=counts, palette='coolwarm')\n",
    "\n",
    "# Add annotations for each bar (count and NaNs)\n",
    "for p, count in zip(ax.patches, counts):\n",
    "    ax.annotate(f\"{int(count)}\", (p.get_x() + 0.3, p.get_height() + 50), fontsize=12)\n",
    "\n",
    "# Customize plot\n",
    "plt.title(\"Distribution of 'machine_failure'\", fontsize=14)\n",
    "plt.xlabel(\"Machine Failure\", fontsize=12)\n",
    "plt.ylabel(\"Count\", fontsize=12)\n",
    "plt.show()\n"
   ]
  },
  {
   "cell_type": "code",
   "execution_count": 18,
   "id": "14d840de-8035-4635-9572-7f6a0daf98a2",
   "metadata": {},
   "outputs": [
    {
     "name": "stdout",
     "output_type": "stream",
     "text": [
      "Cleaned dataset has been saved.\n"
     ]
    }
   ],
   "source": [
    "# Specify the file path\n",
    "output_path = r\"C:\\Users\\ghaza\\Desktop\\FYP\\Application\\AI\\data\\processed\\cleaned_dataset.csv\"\n",
    "\n",
    "# Save the cleaned dataset to a CSV file\n",
    "data.to_csv(output_path, index=False)\n",
    "\n",
    "print(\"Cleaned dataset has been saved.\")"
   ]
  }
 ],
 "metadata": {
  "kernelspec": {
   "display_name": "Python 3 (ipykernel)",
   "language": "python",
   "name": "python3"
  },
  "language_info": {
   "codemirror_mode": {
    "name": "ipython",
    "version": 3
   },
   "file_extension": ".py",
   "mimetype": "text/x-python",
   "name": "python",
   "nbconvert_exporter": "python",
   "pygments_lexer": "ipython3",
   "version": "3.12.4"
  }
 },
 "nbformat": 4,
 "nbformat_minor": 5
}
