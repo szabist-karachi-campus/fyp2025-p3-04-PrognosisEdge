{
 "cells": [
  {
   "cell_type": "markdown",
   "id": "65341fe5-36b6-490d-a394-19a21aee0e8a",
   "metadata": {},
   "source": [
    "# Final Evaluation and Result Comparison"
   ]
  },
  {
   "cell_type": "code",
   "execution_count": null,
   "id": "fd19742e-b238-4109-a94d-007c12ac6acc",
   "metadata": {},
   "outputs": [],
   "source": []
  }
 ],
 "metadata": {
  "kernelspec": {
   "display_name": "Python 3 (ipykernel)",
   "language": "python",
   "name": "python3"
  },
  "language_info": {
   "codemirror_mode": {
    "name": "ipython",
    "version": 3
   },
   "file_extension": ".py",
   "mimetype": "text/x-python",
   "name": "python",
   "nbconvert_exporter": "python",
   "pygments_lexer": "ipython3",
   "version": "3.12.4"
  }
 },
 "nbformat": 4,
 "nbformat_minor": 5
}
