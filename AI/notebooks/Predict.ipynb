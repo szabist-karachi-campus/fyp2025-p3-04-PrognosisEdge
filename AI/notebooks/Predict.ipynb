{
 "cells": [
  {
   "cell_type": "code",
   "execution_count": 7,
   "id": "2accdf62-0978-4211-b833-9866d14a8dc1",
   "metadata": {},
   "outputs": [],
   "source": [
    "import numpy as np\n",
    "import pandas as pd\n",
    "import joblib\n",
    "import warnings\n",
    "warnings.filterwarnings(\"ignore\", category=UserWarning)"
   ]
  },
  {
   "cell_type": "code",
   "execution_count": 19,
   "id": "1be084d6-c220-4d25-9e0f-ec08b3e3a70e",
   "metadata": {},
   "outputs": [],
   "source": [
    "model_binary = joblib.load(r\"C:\\Users\\ghaza\\Desktop\\FYP\\Application\\AI\\models\\final_binary_soft_voting_ensemble_compat.pkl\")\n",
    "model_multi = joblib.load(r\"C:\\Users\\ghaza\\Desktop\\FYP\\Application\\AI\\models\\final_multi_soft_voting_ensemble_compat.pkl\")\n",
    "scaler_binary = joblib.load(r\"C:\\Users\\ghaza\\Desktop\\FYP\\Application\\AI\\models\\scaler_binary_6.pkl\")\n",
    "scaler_multi = joblib.load(r\"C:\\Users\\ghaza\\Desktop\\FYP\\Application\\AI\\models\\scaler_multi_6.pkl\")\n",
    "label_encoder = joblib.load(r\"C:\\Users\\ghaza\\Desktop\\FYP\\Application\\AI\\models\\label_encoder.pkl\")"
   ]
  },
  {
   "cell_type": "markdown",
   "id": "efc47124-5277-4ade-8795-67574e7c9302",
   "metadata": {},
   "source": [
    "##### Binary input: 6 features\n",
    "Order: Water_Flow_Rate, Temperature_Fluctuation_Index, Pressure_Stability_Index, Detergent_Level, Hydraulic_Pressure, Coolant_Temperature\n",
    "\n",
    "##### Multi input: 6 features\n",
    "Order: Water_Flow_Rate, Temperature_Fluctuation_Index, Pressure_Stability_Index, Detergent_Level, Hydraulic_Pressure, Hydraulic_Oil_Temperature"
   ]
  },
  {
   "cell_type": "code",
   "execution_count": 51,
   "id": "d61bffb4-8435-49f7-a6c5-b42752170cff",
   "metadata": {},
   "outputs": [
    {
     "name": "stdout",
     "output_type": "stream",
     "text": [
      "Predicted Machine Failure (Binary): 1\n",
      "Predicted Failure Type (Multiclass): 1\n",
      "Predicted Failure Type (Multiclass): No Failure\n"
     ]
    }
   ],
   "source": [
    "# 0 binary - no failure (1)\n",
    "\n",
    "input_binary = [[\n",
    "    10.04604452,       # Water_Flow_Rate\n",
    "    8.366064135,       # Temperature_Fluctuation_Index\n",
    "    15.47119587,       # Pressure_Stability_Index\n",
    "    49.55366216,       # Detergent_Level\n",
    "    4908.558877,       # Hydraulic_Pressure\n",
    "    36.08057592        # Coolant_Temperature\n",
    "]]\n",
    "\n",
    "input_multi = [[\n",
    "    10.04604452,       # Water_Flow_Rate\n",
    "    8.366064135,       # Temperature_Fluctuation_Index\n",
    "    15.47119587,       # Pressure_Stability_Index\n",
    "    49.55366216,       # Detergent_Level\n",
    "    4908.558877,       # Hydraulic_Pressure\n",
    "    39.83734476        # Hydraulic_Oil_Temperature\n",
    "]]\n",
    "\n",
    "input_binary_scaled = scaler_binary.transform(input_binary)\n",
    "input_multi_scaled = scaler_multi.transform(input_multi)\n",
    "\n",
    "binary_pred = model_binary.predict(input_binary_scaled)[0]\n",
    "multi_pred_encoded = model_multi.predict(input_multi_scaled)[0]\n",
    "multi_pred_label = label_encoder.inverse_transform([multi_pred_encoded])[0]\n",
    "\n",
    "print(\"Predicted Machine Failure (Binary):\", binary_pred)\n",
    "print(\"Predicted Failure Type (Multiclass):\", multi_pred_encoded)\n",
    "print(\"Predicted Failure Type (Multiclass):\", multi_pred_label)"
   ]
  },
  {
   "cell_type": "code",
   "execution_count": 53,
   "id": "223faa9d-8e61-49b3-8529-6711c77c7c1a",
   "metadata": {},
   "outputs": [
    {
     "name": "stdout",
     "output_type": "stream",
     "text": [
      "Predicted Machine Failure (Binary): 1\n",
      "Predicted Failure Type (Multiclass): 1\n",
      "Predicted Failure Type (Multiclass): No Failure\n"
     ]
    }
   ],
   "source": [
    "# 0 binary - no failure (1)\n",
    "\n",
    "input_binary = [[\n",
    "    6.47752491,         # Water_Flow_Rate\n",
    "    10.24598655,        # Temperature_Fluctuation_Index\n",
    "    68.67194244,        # Pressure_Stability_Index\n",
    "    56.46197285,        # Detergent_Level\n",
    "    7524.317635,        # Hydraulic_Pressure\n",
    "    38.31374606         # Coolant_Temperature\n",
    "]]\n",
    "\n",
    "input_multi = [[\n",
    "    6.47752491,         # Water_Flow_Rate\n",
    "    10.24598655,        # Temperature_Fluctuation_Index\n",
    "    68.67194244,        # Pressure_Stability_Index\n",
    "    56.46197285,        # Detergent_Level\n",
    "    7524.317635,        # Hydraulic_Pressure\n",
    "    63.76527464         # Hydraulic_Oil_Temperature\n",
    "]]\n",
    "\n",
    "input_binary_scaled = scaler_binary.transform(input_binary)\n",
    "input_multi_scaled = scaler_multi.transform(input_multi)\n",
    "\n",
    "binary_pred = model_binary.predict(input_binary_scaled)[0]\n",
    "multi_pred_encoded = model_multi.predict(input_multi_scaled)[0]\n",
    "multi_pred_label = label_encoder.inverse_transform([multi_pred_encoded])[0]\n",
    "\n",
    "print(\"Predicted Machine Failure (Binary):\", binary_pred)\n",
    "print(\"Predicted Failure Type (Multiclass):\", multi_pred_encoded)\n",
    "print(\"Predicted Failure Type (Multiclass):\", multi_pred_label)"
   ]
  },
  {
   "cell_type": "code",
   "execution_count": 77,
   "id": "e6649116-d74d-4848-846c-7b3e06138ed4",
   "metadata": {},
   "outputs": [
    {
     "name": "stdout",
     "output_type": "stream",
     "text": [
      "Predicted Machine Failure (Binary): 1\n",
      "Predicted Failure Type (Multiclass): 0\n",
      "Predicted Failure Type (Multiclass): Detergent Level Low\n"
     ]
    }
   ],
   "source": [
    "# 1 binary - failure (Detergent Level Low)\n",
    "\n",
    "input_binary = [[\n",
    "    18.457546,         # Water_Flow_Rate\n",
    "    3.657819,          # Temperature_Fluctuation_Index\n",
    "    15.206960,         # Pressure_Stability_Index\n",
    "    16.271362,         # Detergent_Level\n",
    "    1929.146006,       # Hydraulic_Pressure\n",
    "    28.723491          # Coolant_Temperature\n",
    "]]\n",
    "\n",
    "input_multi = [[\n",
    "    18.457546,         # Water_Flow_Rate\n",
    "    3.657819,          # Temperature_Fluctuation_Index\n",
    "    15.206960,         # Pressure_Stability_Index\n",
    "    16.271362,         # Detergent_Level\n",
    "    1929.146006,       # Hydraulic_Pressure\n",
    "    46.490603          # Hydraulic_Oil_Temperature\n",
    "]]\n",
    "\n",
    "input_binary_scaled = scaler_binary.transform(input_binary)\n",
    "input_multi_scaled = scaler_multi.transform(input_multi)\n",
    "\n",
    "binary_pred = model_binary.predict(input_binary_scaled)[0]\n",
    "multi_pred_encoded = model_multi.predict(input_multi_scaled)[0]\n",
    "multi_pred_label = label_encoder.inverse_transform([multi_pred_encoded])[0]\n",
    "\n",
    "print(\"Predicted Machine Failure (Binary):\", binary_pred)\n",
    "print(\"Predicted Failure Type (Multiclass):\", multi_pred_encoded)\n",
    "print(\"Predicted Failure Type (Multiclass):\", multi_pred_label)"
   ]
  },
  {
   "cell_type": "code",
   "execution_count": 79,
   "id": "b8f9b695-a301-429b-9fe7-89b4ee86e1bb",
   "metadata": {},
   "outputs": [
    {
     "name": "stdout",
     "output_type": "stream",
     "text": [
      "Predicted Machine Failure (Binary): 1\n",
      "Predicted Failure Type (Multiclass): 2\n",
      "Predicted Failure Type (Multiclass): Pressure Drop\n"
     ]
    }
   ],
   "source": [
    "# 1 binary - failure (Pressure Drop)\n",
    "\n",
    "input_binary = [[\n",
    "    25.759390,         # Water_Flow_Rate\n",
    "    16.297520,         # Temperature_Fluctuation_Index\n",
    "    54.846547,         # Pressure_Stability_Index\n",
    "    56.931079,         # Detergent_Level\n",
    "    1302.737141,       # Hydraulic_Pressure\n",
    "    74.091336          # Coolant_Temperature\n",
    "]]\n",
    "\n",
    "input_multi = [[\n",
    "    25.759390,         # Water_Flow_Rate\n",
    "    16.297520,         # Temperature_Fluctuation_Index\n",
    "    54.846547,         # Pressure_Stability_Index\n",
    "    56.931079,         # Detergent_Level\n",
    "    1302.737141,       # Hydraulic_Pressure\n",
    "    46.427831          # Hydraulic_Oil_Temperature\n",
    "]]\n",
    "\n",
    "input_binary_scaled = scaler_binary.transform(input_binary)\n",
    "input_multi_scaled = scaler_multi.transform(input_multi)\n",
    "\n",
    "binary_pred = model_binary.predict(input_binary_scaled)[0]\n",
    "multi_pred_encoded = model_multi.predict(input_multi_scaled)[0]\n",
    "multi_pred_label = label_encoder.inverse_transform([multi_pred_encoded])[0]\n",
    "\n",
    "print(\"Predicted Machine Failure (Binary):\", binary_pred)\n",
    "print(\"Predicted Failure Type (Multiclass):\", multi_pred_encoded)\n",
    "print(\"Predicted Failure Type (Multiclass):\", multi_pred_label)"
   ]
  },
  {
   "cell_type": "code",
   "execution_count": 81,
   "id": "a6a04b9e-ea56-46bb-ade1-03d8569b9cfe",
   "metadata": {},
   "outputs": [
    {
     "name": "stdout",
     "output_type": "stream",
     "text": [
      "Predicted Machine Failure (Binary): 1\n",
      "Predicted Failure Type (Multiclass): 3\n",
      "Predicted Failure Type (Multiclass): Temperature Anomaly\n"
     ]
    }
   ],
   "source": [
    "# 1 binary - failure (Temperature Anomaly)\n",
    "\n",
    "input_binary = [[\n",
    "    11.107820,         # Water_Flow_Rate\n",
    "    44.787587,         # Temperature_Fluctuation_Index\n",
    "    90.684769,         # Pressure_Stability_Index\n",
    "    79.866134,         # Detergent_Level\n",
    "    6391.371580,       # Hydraulic_Pressure\n",
    "    80.317863          # Coolant_Temperature\n",
    "]]\n",
    "\n",
    "input_multi = [[\n",
    "    11.107820,         # Water_Flow_Rate\n",
    "    44.787587,         # Temperature_Fluctuation_Index\n",
    "    90.684769,         # Pressure_Stability_Index\n",
    "    79.866134,         # Detergent_Level\n",
    "    6391.371580,       # Hydraulic_Pressure\n",
    "    45.493105          # Hydraulic_Oil_Temperature\n",
    "]]\n",
    "\n",
    "input_binary_scaled = scaler_binary.transform(input_binary)\n",
    "input_multi_scaled = scaler_multi.transform(input_multi)\n",
    "\n",
    "binary_pred = model_binary.predict(input_binary_scaled)[0]\n",
    "multi_pred_encoded = model_multi.predict(input_multi_scaled)[0]\n",
    "multi_pred_label = label_encoder.inverse_transform([multi_pred_encoded])[0]\n",
    "\n",
    "print(\"Predicted Machine Failure (Binary):\", binary_pred)\n",
    "print(\"Predicted Failure Type (Multiclass):\", multi_pred_encoded)\n",
    "print(\"Predicted Failure Type (Multiclass):\", multi_pred_label)"
   ]
  },
  {
   "cell_type": "code",
   "execution_count": 83,
   "id": "4a8a938c-c3f8-4dff-a020-40992885c2d0",
   "metadata": {},
   "outputs": [
    {
     "name": "stdout",
     "output_type": "stream",
     "text": [
      "Predicted Machine Failure (Binary): 1\n",
      "Predicted Failure Type (Multiclass): 4\n",
      "Predicted Failure Type (Multiclass): Water Flow Issue\n"
     ]
    }
   ],
   "source": [
    "# 1 binary - failure (Water Flow Issue)\n",
    "\n",
    "input_binary = [[\n",
    "    21.732904,         # Water_Flow_Rate\n",
    "    18.490657,         # Temperature_Fluctuation_Index\n",
    "    45.526645,         # Pressure_Stability_Index\n",
    "    41.088901,         # Detergent_Level\n",
    "    3536.784786,       # Hydraulic_Pressure\n",
    "    42.889366          # Coolant_Temperature\n",
    "]]\n",
    "\n",
    "input_multi = [[\n",
    "    21.732904,         # Water_Flow_Rate\n",
    "    18.490657,         # Temperature_Fluctuation_Index\n",
    "    45.526645,         # Pressure_Stability_Index\n",
    "    41.088901,         # Detergent_Level\n",
    "    3536.784786,       # Hydraulic_Pressure\n",
    "    14.812552          # Hydraulic_Oil_Temperature\n",
    "]]\n",
    "\n",
    "input_binary_scaled = scaler_binary.transform(input_binary)\n",
    "input_multi_scaled = scaler_multi.transform(input_multi)\n",
    "\n",
    "binary_pred = model_binary.predict(input_binary_scaled)[0]\n",
    "multi_pred_encoded = model_multi.predict(input_multi_scaled)[0]\n",
    "multi_pred_label = label_encoder.inverse_transform([multi_pred_encoded])[0]\n",
    "\n",
    "print(\"Predicted Machine Failure (Binary):\", binary_pred)\n",
    "print(\"Predicted Failure Type (Multiclass):\", multi_pred_encoded)\n",
    "print(\"Predicted Failure Type (Multiclass):\", multi_pred_label)"
   ]
  },
  {
   "cell_type": "code",
   "execution_count": null,
   "id": "df0f9ad4-1666-42fb-b627-4484de5b8738",
   "metadata": {},
   "outputs": [],
   "source": [
    "# Encoded\t Label\n",
    "# 0\t     Detergent Level Low\n",
    "# 1\t     No Failure\n",
    "# 2\t     Pressure Drop\n",
    "# 3\t     Temperature Anomaly\n",
    "# 4\t     Water Flow Issue"
   ]
  }
 ],
 "metadata": {
  "kernelspec": {
   "display_name": "Python 3 (ipykernel)",
   "language": "python",
   "name": "python3"
  },
  "language_info": {
   "codemirror_mode": {
    "name": "ipython",
    "version": 3
   },
   "file_extension": ".py",
   "mimetype": "text/x-python",
   "name": "python",
   "nbconvert_exporter": "python",
   "pygments_lexer": "ipython3",
   "version": "3.12.4"
  }
 },
 "nbformat": 4,
 "nbformat_minor": 5
}
